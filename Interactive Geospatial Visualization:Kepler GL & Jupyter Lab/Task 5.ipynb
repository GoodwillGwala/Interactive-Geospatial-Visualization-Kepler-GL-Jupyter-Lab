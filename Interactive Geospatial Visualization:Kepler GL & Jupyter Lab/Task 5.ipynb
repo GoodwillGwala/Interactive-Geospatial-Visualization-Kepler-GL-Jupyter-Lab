{
 "cells": [
  {
   "cell_type": "markdown",
   "id": "drawn-sitting",
   "metadata": {},
   "source": [
    "## Task 5: 3D Hexagon "
   ]
  },
  {
   "cell_type": "code",
   "execution_count": null,
   "id": "descending-facing",
   "metadata": {},
   "outputs": [],
   "source": [
    "import geopandas as gpd\n",
    "from keplergl import KeplerGl"
   ]
  },
  {
   "cell_type": "code",
   "execution_count": null,
   "id": "broad-research",
   "metadata": {},
   "outputs": [],
   "source": [
    "gdf = gpd.read_file(\"data/output/parking_2015.geojson\")\n",
    "gdf.head()"
   ]
  },
  {
   "cell_type": "code",
   "execution_count": null,
   "id": "light-harvest",
   "metadata": {},
   "outputs": [],
   "source": [
    "m = KeplerGl(height=900)\n",
    "m.add_data(data=gdf, name='3dHexagon')\n",
    "m"
   ]
  },
  {
   "cell_type": "code",
   "execution_count": null,
   "id": "invalid-synthetic",
   "metadata": {},
   "outputs": [],
   "source": []
  }
 ],
 "metadata": {
  "kernelspec": {
   "display_name": "geospatial",
   "language": "python",
   "name": "geospatial"
  },
  "language_info": {
   "codemirror_mode": {
    "name": "ipython",
    "version": 3
   },
   "file_extension": ".py",
   "mimetype": "text/x-python",
   "name": "python",
   "nbconvert_exporter": "python",
   "pygments_lexer": "ipython3",
   "version": "3.8.6"
  },
  "widgets": {
   "application/vnd.jupyter.widget-state+json": {
    "state": {},
    "version_major": 2,
    "version_minor": 0
   }
  }
 },
 "nbformat": 4,
 "nbformat_minor": 5
}
