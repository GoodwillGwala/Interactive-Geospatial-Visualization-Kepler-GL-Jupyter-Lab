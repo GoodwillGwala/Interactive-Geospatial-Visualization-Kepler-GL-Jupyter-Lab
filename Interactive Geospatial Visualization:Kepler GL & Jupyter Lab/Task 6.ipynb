{
 "cells": [
  {
   "cell_type": "markdown",
   "id": "owned-rwanda",
   "metadata": {},
   "source": [
    "## Task 6: Animation"
   ]
  },
  {
   "cell_type": "code",
   "execution_count": null,
   "id": "committed-millennium",
   "metadata": {},
   "outputs": [],
   "source": [
    "import geopandas as gpd\n",
    "import pandas as pd\n",
    "from keplergl import KeplerGl"
   ]
  },
  {
   "cell_type": "code",
   "execution_count": null,
   "id": "excess-trust",
   "metadata": {},
   "outputs": [],
   "source": [
    "gdf = gpd.read_file(\"data/output/parking_2015.geojson\", parse_dates=True)\n",
    "gdf.head()"
   ]
  },
  {
   "cell_type": "code",
   "execution_count": null,
   "id": "billion-techno",
   "metadata": {},
   "outputs": [],
   "source": [
    "gdf[\"issue_datetime\"] = pd.to_datetime(gdf[\"issue_datetime\"], dayfirst=True)\n"
   ]
  },
  {
   "cell_type": "code",
   "execution_count": null,
   "id": "flexible-tuner",
   "metadata": {},
   "outputs": [],
   "source": [
    "gdf.sample(10)"
   ]
  },
  {
   "cell_type": "code",
   "execution_count": null,
   "id": "contrary-stranger",
   "metadata": {},
   "outputs": [],
   "source": [
    "m = KeplerGl(height=900)\n",
    "m.add_data(data=gdf, name='animation')\n",
    "m"
   ]
  },
  {
   "cell_type": "code",
   "execution_count": null,
   "id": "romantic-amazon",
   "metadata": {},
   "outputs": [],
   "source": []
  }
 ],
 "metadata": {
  "kernelspec": {
   "display_name": "geospatial",
   "language": "python",
   "name": "geospatial"
  },
  "language_info": {
   "codemirror_mode": {
    "name": "ipython",
    "version": 3
   },
   "file_extension": ".py",
   "mimetype": "text/x-python",
   "name": "python",
   "nbconvert_exporter": "python",
   "pygments_lexer": "ipython3",
   "version": "3.8.6"
  },
  "widgets": {
   "application/vnd.jupyter.widget-state+json": {
    "state": {},
    "version_major": 2,
    "version_minor": 0
   }
  }
 },
 "nbformat": 4,
 "nbformat_minor": 5
}
