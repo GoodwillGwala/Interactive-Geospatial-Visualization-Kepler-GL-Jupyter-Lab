{
 "cells": [
  {
   "cell_type": "markdown",
   "metadata": {},
   "source": [
    "## Task 3: Customizing Point Map"
   ]
  },
  {
   "cell_type": "code",
   "execution_count": 1,
   "metadata": {},
   "outputs": [],
   "source": [
    "import pandas as pd\n",
    "import geopandas as gpd\n",
    "from keplergl import KeplerGl\n"
   ]
  },
  {
   "cell_type": "code",
   "execution_count": 2,
   "metadata": {},
   "outputs": [
    {
     "name": "stdout",
     "output_type": "stream",
     "text": [
      "User Guide: https://docs.kepler.gl/docs/keplergl-jupyter\n"
     ]
    }
   ],
   "source": [
    "# Create A dataframe\n",
    "\n",
    "df = pd.DataFrame(\n",
    "    {\n",
    "        \"City\": [\"Shanghai\", \"Sao paulo\", \"Cairo\", \"London\", \"Toronto\", \"Sydney\"],\n",
    "        \"Country\": [\"China\", \"Brazil\", \"Egypt\", \"England\", \"Canada\", \"Australia\"],\n",
    "        \"Latitude\": [31.045556, -23.473293, 30.05, 51.514125, 43.666667, -33.861481],\n",
    "        \"Longitude\": [121.399722, -46.665803, 31.25, -0.093689, -79.416667, 151.205475],\n",
    "        \"Population\": [14608512, 10021437, 7734602, 7421228, 4612187, 4394585],\n",
    "    }\n",
    ")\n",
    "\n",
    "\n",
    "# Create a Kepler Map\n",
    "m = KeplerGl(height=600, width=800)\n",
    "\n",
    "# Add Dataframe to the map\n",
    "m.add_data(data=df, name='cities')"
   ]
  },
  {
   "cell_type": "code",
   "execution_count": 3,
   "metadata": {},
   "outputs": [
    {
     "data": {
      "application/vnd.jupyter.widget-view+json": {
       "model_id": "d2b08822d6ed41a08c1e81ccb6c43fdb",
       "version_major": 2,
       "version_minor": 0
      },
      "text/plain": [
       "KeplerGl(data={'cities': {'index': [0, 1, 2, 3, 4, 5], 'columns': ['City', 'Country', 'Latitude', 'Longitude',…"
      ]
     },
     "metadata": {},
     "output_type": "display_data"
    }
   ],
   "source": [
    "m"
   ]
  },
  {
   "cell_type": "code",
   "execution_count": 4,
   "metadata": {},
   "outputs": [
    {
     "name": "stdout",
     "output_type": "stream",
     "text": [
      "Requirement already satisfied: keplergl in /home/goodwill/.local/lib/python3.8/site-packages (0.3.0)\n",
      "Requirement already satisfied: geopandas>=0.5.0 in /home/goodwill/.local/lib/python3.8/site-packages (from keplergl) (0.9.0)\n",
      "Requirement already satisfied: ipywidgets<8,>=7.0.0 in /home/goodwill/.local/lib/python3.8/site-packages (from keplergl) (7.6.3)\n",
      "Requirement already satisfied: pandas>=0.23.0 in /home/goodwill/.local/lib/python3.8/site-packages (from keplergl) (1.2.3)\n",
      "Requirement already satisfied: Shapely>=1.6.4.post2 in /home/goodwill/.local/lib/python3.8/site-packages (from keplergl) (1.7.1)\n",
      "Requirement already satisfied: traittypes>=0.2.1 in /home/goodwill/.local/lib/python3.8/site-packages (from keplergl) (0.2.1)\n",
      "Requirement already satisfied: pyproj>=2.2.0 in /home/goodwill/.local/lib/python3.8/site-packages (from geopandas>=0.5.0->keplergl) (3.1.0)\n",
      "Requirement already satisfied: fiona>=1.8 in /home/goodwill/.local/lib/python3.8/site-packages (from geopandas>=0.5.0->keplergl) (1.8.20)\n",
      "Requirement already satisfied: traitlets>=4.3.1 in /usr/lib/python3/dist-packages (from ipywidgets<8,>=7.0.0->keplergl) (4.3.3)\n",
      "Requirement already satisfied: widgetsnbextension~=3.5.0 in /home/goodwill/.local/lib/python3.8/site-packages (from ipywidgets<8,>=7.0.0->keplergl) (3.5.1)\n",
      "Requirement already satisfied: jupyterlab-widgets>=1.0.0; python_version >= \"3.6\" in /home/goodwill/.local/lib/python3.8/site-packages (from ipywidgets<8,>=7.0.0->keplergl) (1.0.0)\n",
      "Requirement already satisfied: ipykernel>=4.5.1 in /usr/lib/python3/dist-packages (from ipywidgets<8,>=7.0.0->keplergl) (5.2.0)\n",
      "Requirement already satisfied: nbformat>=4.2.0 in /usr/lib/python3/dist-packages (from ipywidgets<8,>=7.0.0->keplergl) (5.0.4)\n",
      "Requirement already satisfied: ipython>=4.0.0; python_version >= \"3.3\" in /usr/lib/python3/dist-packages (from ipywidgets<8,>=7.0.0->keplergl) (7.13.0)\n",
      "Requirement already satisfied: pytz>=2017.3 in /usr/lib/python3/dist-packages (from pandas>=0.23.0->keplergl) (2019.3)\n",
      "Requirement already satisfied: python-dateutil>=2.7.3 in /home/goodwill/.local/lib/python3.8/site-packages (from pandas>=0.23.0->keplergl) (2.8.1)\n",
      "Requirement already satisfied: numpy>=1.16.5 in /home/goodwill/.local/lib/python3.8/site-packages (from pandas>=0.23.0->keplergl) (1.17.5)\n",
      "Requirement already satisfied: certifi in /usr/lib/python3/dist-packages (from pyproj>=2.2.0->geopandas>=0.5.0->keplergl) (2019.11.28)\n",
      "Requirement already satisfied: six>=1.7 in /home/goodwill/.local/lib/python3.8/site-packages (from fiona>=1.8->geopandas>=0.5.0->keplergl) (1.12.0)\n",
      "Requirement already satisfied: click-plugins>=1.0 in /home/goodwill/.local/lib/python3.8/site-packages (from fiona>=1.8->geopandas>=0.5.0->keplergl) (1.1.1)\n",
      "Requirement already satisfied: attrs>=17 in /usr/lib/python3/dist-packages (from fiona>=1.8->geopandas>=0.5.0->keplergl) (19.3.0)\n",
      "Requirement already satisfied: click>=4.0 in /usr/lib/python3/dist-packages (from fiona>=1.8->geopandas>=0.5.0->keplergl) (7.0)\n",
      "Requirement already satisfied: munch in /home/goodwill/.local/lib/python3.8/site-packages (from fiona>=1.8->geopandas>=0.5.0->keplergl) (2.5.0)\n",
      "Requirement already satisfied: setuptools in /usr/lib/python3/dist-packages (from fiona>=1.8->geopandas>=0.5.0->keplergl) (45.2.0)\n",
      "Requirement already satisfied: cligj>=0.5 in /home/goodwill/.local/lib/python3.8/site-packages (from fiona>=1.8->geopandas>=0.5.0->keplergl) (0.7.2)\n",
      "Requirement already satisfied: notebook>=4.4.1 in /usr/lib/python3/dist-packages (from widgetsnbextension~=3.5.0->ipywidgets<8,>=7.0.0->keplergl) (6.0.3)\n",
      "Requirement already satisfied: pexpect in /usr/lib/python3/dist-packages (from ipython>=4.0.0; python_version >= \"3.3\"->ipywidgets<8,>=7.0.0->keplergl) (4.6.0)\n",
      "Note: you may need to restart the kernel to use updated packages.\n"
     ]
    }
   ],
   "source": [
    "pip install keplergl"
   ]
  },
  {
   "cell_type": "code",
   "execution_count": null,
   "metadata": {},
   "outputs": [],
   "source": []
  }
 ],
 "metadata": {
  "kernelspec": {
   "display_name": "Python 3",
   "language": "python",
   "name": "python3"
  },
  "language_info": {
   "codemirror_mode": {
    "name": "ipython",
    "version": 3
   },
   "file_extension": ".py",
   "mimetype": "text/x-python",
   "name": "python",
   "nbconvert_exporter": "python",
   "pygments_lexer": "ipython3",
   "version": "3.8.10"
  },
  "widgets": {
   "application/vnd.jupyter.widget-state+json": {
    "state": {},
    "version_major": 2,
    "version_minor": 0
   }
  }
 },
 "nbformat": 4,
 "nbformat_minor": 5
}
